{
 "cells": [
  {
   "cell_type": "code",
   "execution_count": 1,
   "id": "a41bbff2-01df-457f-b79d-140d9ebf8f66",
   "metadata": {},
   "outputs": [
    {
     "name": "stdout",
     "output_type": "stream",
     "text": [
      "(937, 4)\n",
      "        date  sales  stock  price\n",
      "0 2014-01-01      0   4972   1.29\n",
      "1 2014-01-02     70   4902   1.29\n",
      "2 2014-01-03     59   4843   1.29\n",
      "3 2014-01-04     93   4750   1.29\n",
      "4 2014-01-05     96   4654   1.29\n"
     ]
    }
   ],
   "source": [
    "import pandas as pd\n",
    "import numpy as np\n",
    "from sklearn.preprocessing import MinMaxScaler\n",
    "\n",
    "df = pd.read_csv(\"data.csv\")\n",
    "print(df.shape)\n",
    "df.columns = ['date', 'sales', 'stock', 'price']\n",
    "\n",
    "df['date'] = pd.to_datetime(df['date'])\n",
    "\n",
    "# Sort by date\n",
    "df = df.sort_values('date').reset_index(drop=True)\n",
    "\n",
    "# Visual check\n",
    "print(df.head())"
   ]
  },
  {
   "cell_type": "code",
   "execution_count": 2,
   "id": "95f2a3be-efb9-466f-a196-decf69b5cb47",
   "metadata": {},
   "outputs": [
    {
     "name": "stdout",
     "output_type": "stream",
     "text": [
      "Shape of X: (923, 14, 3), Shape of y: (923,)\n"
     ]
    }
   ],
   "source": [
    "target_col = 'sales'\n",
    "\n",
    "# Scale features\n",
    "scaler = MinMaxScaler()\n",
    "scaled_data = scaler.fit_transform(df.drop(columns=['date']))  # date not needed for LSTM\n",
    "\n",
    "# Convert to numpy array\n",
    "scaled_data = np.array(scaled_data)\n",
    "\n",
    "# Function to create sequences for LSTM\n",
    "def create_sequences(data, seq_length):\n",
    "    X, y = [], []\n",
    "    for i in range(len(data) - seq_length):\n",
    "        X.append(data[i:i+seq_length, :])      # past seq_length days\n",
    "        y.append(data[i+seq_length, 0])        # 'sales' is the first column after drop(date)\n",
    "    return np.array(X), np.array(y)\n",
    "\n",
    "SEQ_LENGTH = 14  # using past 14 days to predict next day\n",
    "X, y = create_sequences(scaled_data, SEQ_LENGTH)\n",
    "\n",
    "print(f\"Shape of X: {X.shape}, Shape of y: {y.shape}\")\n"
   ]
  },
  {
   "cell_type": "code",
   "execution_count": 3,
   "id": "3f087677-8bf2-4c76-b5f0-d8be6bd9f4fc",
   "metadata": {},
   "outputs": [
    {
     "name": "stdout",
     "output_type": "stream",
     "text": [
      "Train: (646, 14, 3), Val: (138, 14, 3), Test: (139, 14, 3)\n"
     ]
    }
   ],
   "source": [
    "# Train: 70%, Validation: 15%, Test: 15%\n",
    "train_size = int(len(X) * 0.7)\n",
    "val_size = int(len(X) * 0.15)\n",
    "\n",
    "X_train, y_train = X[:train_size], y[:train_size]\n",
    "X_val, y_val = X[train_size:train_size+val_size], y[train_size:train_size+val_size]\n",
    "X_test, y_test = X[train_size+val_size:], y[train_size+val_size:]\n",
    "\n",
    "print(f\"Train: {X_train.shape}, Val: {X_val.shape}, Test: {X_test.shape}\")\n"
   ]
  },
  {
   "cell_type": "code",
   "execution_count": 4,
   "id": "d8692156-dbce-4d25-a1fb-91cff5200669",
   "metadata": {},
   "outputs": [
    {
     "name": "stdout",
     "output_type": "stream",
     "text": [
      "Epoch [1/50], Loss: 0.0255\n",
      "Epoch [2/50], Loss: 0.0160\n",
      "Epoch [3/50], Loss: 0.0155\n",
      "Epoch [4/50], Loss: 0.0150\n",
      "Epoch [5/50], Loss: 0.0152\n",
      "Epoch [6/50], Loss: 0.0146\n",
      "Epoch [7/50], Loss: 0.0138\n",
      "Epoch [8/50], Loss: 0.0133\n",
      "Epoch [9/50], Loss: 0.0133\n",
      "Epoch [10/50], Loss: 0.0129\n",
      "Epoch [11/50], Loss: 0.0124\n",
      "Epoch [12/50], Loss: 0.0122\n",
      "Epoch [13/50], Loss: 0.0172\n",
      "Epoch [14/50], Loss: 0.0119\n",
      "Epoch [15/50], Loss: 0.0120\n",
      "Epoch [16/50], Loss: 0.0118\n",
      "Epoch [17/50], Loss: 0.0113\n",
      "Epoch [18/50], Loss: 0.0113\n",
      "Epoch [19/50], Loss: 0.0115\n",
      "Epoch [20/50], Loss: 0.0120\n",
      "Epoch [21/50], Loss: 0.0110\n",
      "Epoch [22/50], Loss: 0.0109\n",
      "Epoch [23/50], Loss: 0.0107\n",
      "Epoch [24/50], Loss: 0.0107\n",
      "Epoch [25/50], Loss: 0.0106\n",
      "Epoch [26/50], Loss: 0.0111\n",
      "Epoch [27/50], Loss: 0.0125\n",
      "Epoch [28/50], Loss: 0.0108\n",
      "Epoch [29/50], Loss: 0.0106\n",
      "Epoch [30/50], Loss: 0.0105\n",
      "Epoch [31/50], Loss: 0.0107\n",
      "Epoch [32/50], Loss: 0.0104\n",
      "Epoch [33/50], Loss: 0.0103\n",
      "Epoch [34/50], Loss: 0.0105\n",
      "Epoch [35/50], Loss: 0.0104\n",
      "Epoch [36/50], Loss: 0.0103\n",
      "Epoch [37/50], Loss: 0.0102\n",
      "Epoch [38/50], Loss: 0.0111\n",
      "Epoch [39/50], Loss: 0.0105\n",
      "Epoch [40/50], Loss: 0.0114\n",
      "Epoch [41/50], Loss: 0.0106\n",
      "Epoch [42/50], Loss: 0.0102\n",
      "Epoch [43/50], Loss: 0.0103\n",
      "Epoch [44/50], Loss: 0.0103\n",
      "Epoch [45/50], Loss: 0.0101\n",
      "Epoch [46/50], Loss: 0.0106\n",
      "Epoch [47/50], Loss: 0.0106\n",
      "Epoch [48/50], Loss: 0.0103\n",
      "Epoch [49/50], Loss: 0.0102\n",
      "Epoch [50/50], Loss: 0.0101\n"
     ]
    }
   ],
   "source": [
    "import torch\n",
    "import torch.nn as nn\n",
    "from torch.utils.data import DataLoader, TensorDataset\n",
    "\n",
    "# ✅ Convert data to PyTorch tensors\n",
    "X_train_t = torch.tensor(X_train, dtype=torch.float32)\n",
    "y_train_t = torch.tensor(y_train, dtype=torch.float32).view(-1, 1)\n",
    "X_test_t = torch.tensor(X_test, dtype=torch.float32)\n",
    "y_test_t = torch.tensor(y_test, dtype=torch.float32).view(-1, 1)\n",
    "\n",
    "# ✅ Create DataLoader for batching\n",
    "train_dataset = TensorDataset(X_train_t, y_train_t)\n",
    "test_dataset = TensorDataset(X_test_t, y_test_t)\n",
    "train_loader = DataLoader(train_dataset, batch_size=32, shuffle=True)\n",
    "test_loader = DataLoader(test_dataset, batch_size=32)\n",
    "\n",
    "# ✅ Define LSTM Model\n",
    "class LSTMModel(nn.Module):\n",
    "    def __init__(self, input_size, hidden_size, num_layers=1):\n",
    "        super(LSTMModel, self).__init__()\n",
    "        self.lstm = nn.LSTM(input_size, hidden_size, num_layers, batch_first=True)\n",
    "        self.fc = nn.Linear(hidden_size, 1)\n",
    "\n",
    "    def forward(self, x):\n",
    "        out, _ = self.lstm(x)\n",
    "        out = out[:, -1, :]  # Take last time step\n",
    "        out = self.fc(out)\n",
    "        return out\n",
    "\n",
    "# Model parameters\n",
    "input_size = X_train.shape[2]   # Number of features\n",
    "hidden_size = 64\n",
    "num_layers = 1\n",
    "\n",
    "model = LSTMModel(input_size, hidden_size, num_layers)\n",
    "\n",
    "# ✅ Loss and optimizer\n",
    "criterion = nn.MSELoss()\n",
    "optimizer = torch.optim.Adam(model.parameters(), lr=0.001)\n",
    "\n",
    "# ✅ Training loop\n",
    "epochs = 50\n",
    "for epoch in range(epochs):\n",
    "    model.train()\n",
    "    epoch_loss = 0\n",
    "    for X_batch, y_batch in train_loader:\n",
    "        optimizer.zero_grad()\n",
    "        outputs = model(X_batch)\n",
    "        loss = criterion(outputs, y_batch)\n",
    "        loss.backward()\n",
    "        optimizer.step()\n",
    "        epoch_loss += loss.item()\n",
    "    \n",
    "    print(f\"Epoch [{epoch+1}/{epochs}], Loss: {epoch_loss/len(train_loader):.4f}\")\n"
   ]
  },
  {
   "cell_type": "code",
   "execution_count": 5,
   "id": "6c219552-89fd-4333-a6b3-12719f039889",
   "metadata": {},
   "outputs": [
    {
     "name": "stdout",
     "output_type": "stream",
     "text": [
      "MAE: 0.0984\n",
      "RMSE: 0.1384\n"
     ]
    }
   ],
   "source": [
    "# Put model in eval mode\n",
    "model.eval()\n",
    "\n",
    "predictions = []\n",
    "actuals = []\n",
    "\n",
    "with torch.no_grad():\n",
    "    for X_batch, y_batch in test_loader:\n",
    "        outputs = model(X_batch)\n",
    "        predictions.extend(outputs.numpy())\n",
    "        actuals.extend(y_batch.numpy())\n",
    "\n",
    "predictions = np.array(predictions)\n",
    "actuals = np.array(actuals)\n",
    "\n",
    "# Metrics\n",
    "mae = np.mean(np.abs(predictions - actuals))\n",
    "rmse = np.sqrt(np.mean((predictions - actuals) ** 2))\n",
    "\n",
    "print(f\"MAE: {mae:.4f}\")\n",
    "print(f\"RMSE: {rmse:.4f}\")\n"
   ]
  },
  {
   "cell_type": "code",
   "execution_count": null,
   "id": "cf26236e-4415-4db1-8fdb-3a79ba78e790",
   "metadata": {},
   "outputs": [],
   "source": []
  }
 ],
 "metadata": {
  "kernelspec": {
   "display_name": "Python (inventory_forecasting)",
   "language": "python",
   "name": "inventory_forecasting"
  },
  "language_info": {
   "codemirror_mode": {
    "name": "ipython",
    "version": 3
   },
   "file_extension": ".py",
   "mimetype": "text/x-python",
   "name": "python",
   "nbconvert_exporter": "python",
   "pygments_lexer": "ipython3",
   "version": "3.11.11"
  }
 },
 "nbformat": 4,
 "nbformat_minor": 5
}
